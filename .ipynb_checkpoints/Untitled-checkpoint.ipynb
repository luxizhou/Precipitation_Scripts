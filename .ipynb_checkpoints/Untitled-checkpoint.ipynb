{
 "cells": [
  {
   "cell_type": "code",
   "execution_count": 67,
   "id": "11dd710f",
   "metadata": {},
   "outputs": [],
   "source": [
    "import os\n",
    "import glob\n",
    "import numpy as np\n",
    "import pandas as pd\n",
    "import datetime as dt\n",
    "from shapely.geometry import LineString, Point, Polygon, MultiPoint\n",
    "import matplotlib.pyplot as plt\n",
    "import geopandas as gpd\n",
    "from pyproj import CRS\n",
    "import seaborn as sns; sns.set_theme()\n",
    "import matplotlib.pyplot as plt\n",
    "import netCDF4 as nc\n",
    "import shapely\n",
    "shapely.speedups.enabled\n",
    "\n",
    "%matplotlib inline\n"
   ]
  },
  {
   "cell_type": "code",
   "execution_count": 68,
   "id": "03b6b572",
   "metadata": {},
   "outputs": [],
   "source": [
    "# IMERG data folder\n",
    "#IMERG_folder = '/home/lzhou/Precipitation/IMERG/'\n",
    "#IMERG_folder = r'D:\\Precipitation\\IMERG'\n",
    "IMERG_folder = '/media/lzhou/Extreme SSD/Precipitation/IMERG'\n",
    "CMA_folder = '/home/lzhou/Precipitation/TC_Tracks/CMA_Historical_Data/Wind_Rainfall/'\n",
    "Output_folder = '/home/lzhou/Precipitation/Output'\n"
   ]
  },
  {
   "cell_type": "code",
   "execution_count": 69,
   "id": "c2d6f7aa",
   "metadata": {},
   "outputs": [
    {
     "data": {
      "text/plain": [
       "['1949-2018_Wind.csv',\n",
       " '1949-2018_DailyPrecipitation.csv',\n",
       " '1951-2018_MaxHourlyPrecipitation.csv',\n",
       " '1949-2018_W8Date.csv',\n",
       " 'read me.txt',\n",
       " 'China_Sta.csv',\n",
       " '1949-2018_TotalPrecipitation.csv',\n",
       " '1949-2018_Gust.csv']"
      ]
     },
     "execution_count": 69,
     "metadata": {},
     "output_type": "execute_result"
    }
   ],
   "source": [
    "os.listdir(CMA_folder)"
   ]
  },
  {
   "cell_type": "code",
   "execution_count": null,
   "id": "eb10a640",
   "metadata": {},
   "outputs": [],
   "source": [
    "# load station data\n",
    "stations = pd.read_csv(os.path.join(CMA_folder,'China_Sta.csv'))\n",
    "stations['lat'] = stations['lat'].apply(lambda x: float(x[:2])+int(x[3:5])/60.)\n",
    "stations['long'] = stations['long'].apply(lambda x: float(x[:3])+int(x[4:6])/60.)\n",
    "stations = stations.rename(columns={\"long\": \"long\"}))\n",
    "#stations['Lat'] = stations['lat'].apply(lambda x: float(x[:2])+int(x[3:5])/60.)"
   ]
  },
  {
   "cell_type": "raw",
   "id": "3ce10ab1",
   "metadata": {},
   "source": [
    "# filter out stations that are impacted by typhoon precipitation\n",
    "nodes_file = '/home/lzhou/Precipitation/Precipitation_Scripts/Output/CMA_Tracks_Nodes_on_Land.shp'\n",
    "nodes = gpd.read_file(nodes_file)\n",
    "minlon,minlat,maxlon,maxlat = nodes_wgs84.geometry.total_bounds\n",
    "minlon = minlon-5; minlat=minlat-5; maxlon=maxlon+5; maxlat=maxlat+5\n",
    "target_stations = stations[(stations.lat>=minlat)&(stations.lat<=maxlat)&(stations.long>=minlon)&(stations.long<=maxlon)]"
   ]
  }
 ],
 "metadata": {
  "kernelspec": {
   "display_name": "Python 3",
   "language": "python",
   "name": "python3"
  },
  "language_info": {
   "codemirror_mode": {
    "name": "ipython",
    "version": 3
   },
   "file_extension": ".py",
   "mimetype": "text/x-python",
   "name": "python",
   "nbconvert_exporter": "python",
   "pygments_lexer": "ipython3",
   "version": "3.8.5"
  }
 },
 "nbformat": 4,
 "nbformat_minor": 5
}
