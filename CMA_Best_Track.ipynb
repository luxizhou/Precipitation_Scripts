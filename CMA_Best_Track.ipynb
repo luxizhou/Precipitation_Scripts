{
 "cells": [
  {
   "cell_type": "code",
   "execution_count": 1,
   "id": "eb53b28d-aeed-4485-8eff-695b61789216",
   "metadata": {},
   "outputs": [],
   "source": [
    "import os\n",
    "import numpy as np\n",
    "import pandas as pd\n",
    "from datetime import datetime\n",
    "import seaborn as sns"
   ]
  },
  {
   "cell_type": "code",
   "execution_count": 2,
   "id": "3f679a2c-23bf-46b9-9660-0e28149a5895",
   "metadata": {},
   "outputs": [],
   "source": [
    "track_folder = '/home/lzhou/Precipitation/TC_Tracks/CMA_Historical_Data/Track_Data/CMABSTdata'\n",
    "files = os.listdir(track_folder)\n",
    "files = [x for x in files if 'txt' in x]"
   ]
  },
  {
   "cell_type": "code",
   "execution_count": 3,
   "id": "7c08edf5-1b18-4010-b418-04006fac7ed3",
   "metadata": {
    "jupyter": {
     "source_hidden": true
    },
    "tags": []
   },
   "outputs": [],
   "source": [
    "first_read = 0\n",
    "ar = 0\n",
    "for year in np.arange(2000,2021): \n",
    "    filename = 'CH'+str(year)+'BST.txt'\n",
    "    infile = os.path.join(track_folder,filename)\n",
    "    os.path.isfile(infile)\n",
    "\n",
    "    f = open(infile)\n",
    "    content = f.readlines()\n",
    "    f.close()\n",
    "\n",
    "    fr = 0\n",
    "    #ar = 0\n",
    "    while fr < len(content):\n",
    "        # print(content[fr])\n",
    "        ss = content[fr].split()\n",
    "        nr = int(ss[2])    #number of rows for this track \n",
    "        nsk = fr + 1       #number of rows to skip when read to table\n",
    "        #print('rows to skip, rows to read: ', nsk, nr)\n",
    "    \n",
    "        # read in the track record. \n",
    "        # column unit: Time(UTC), IntensityCategory(Chinese standard), LAT/LON(degree in 0.1),\n",
    "        # PRES(hPa), WND(2-min mean max. sustained wind near the TC center m/s)\n",
    "\n",
    "        if first_read == 0: \n",
    "            aa = pd.read_csv(infile,skiprows=nsk,nrows=nr,sep='\\s+',header=None, \\\n",
    "                             names=['Time','IntensityCategory','LAT','LON','PRES','WND'], \\\n",
    "                             dtype={'Time':'int','IntensityCategory':'int','LAT':'float','LON':'float','PRES':'float','WND':'float'})\n",
    "            first_read = 1\n",
    "        else:\n",
    "            dummy = pd.read_csv(infile,skiprows=nsk,nrows=nr,sep='\\s+',header=None, \\\n",
    "                                names=['Time','IntensityCategory','LAT','LON','PRES','WND'], \\\n",
    "                                dtype={'Time':'int','IntensityCategory':'int','LAT':'float','LON':'float','PRES':'float','WND':'float'})\n",
    "            aa = aa.append(dummy,ignore_index=True)\n",
    "            \n",
    "        aa.loc[ar:ar+nr,'IntID'] = ss[1]\n",
    "        aa.loc[ar:ar+nr,'InYearID'] = ss[3]\n",
    "        aa.loc[ar:ar+nr,'CNID'] = ss[4]\n",
    "        aa.loc[ar:ar+nr,'Flag'] = ss[5]            # Flag of the last data line: 0=Decay, 1=Move outside of the region, 2=Merge, 3 = Quais-Stationary\n",
    "        aa.loc[ar:ar+nr,'TimeInterval'] = ss[6]    # Time interval (hour)\n",
    "        aa.loc[ar:ar+nr,'Name'] = ss[7]            # Typhoon Name\n",
    "            \n",
    "        ar = ar + nr\n",
    "        fr = fr + nr + 1 \n",
    "\n",
    "# convert data types\n",
    "#aa.IntID = aa.IntID.astype('int')\n",
    "aa.InYearID = aa.InYearID.astype('int')\n",
    "#aa.CNID = aa.CNID.astype('int')\n",
    "aa.Flag = aa.Flag.astype('int')\n",
    "aa.TimeInterval = aa.TimeInterval.astype('int')\n",
    "\n",
    "# correc lat and lon\n",
    "aa.LAT = aa.LAT/10.\n",
    "aa.LON = aa.LON/10.\n",
    "\n",
    "# convert intergers to datetime format\n",
    "aa['Time'] = pd.to_datetime(aa['Time'],format='%Y%m%d%H')\n"
   ]
  },
  {
   "cell_type": "code",
   "execution_count": 4,
   "id": "a10fd29c-cf23-42da-bedb-f4f642d4fa54",
   "metadata": {},
   "outputs": [],
   "source": [
    "cma_tracks = aa.copy()\n",
    "cma_tracks.to_csv('CMA_Best_Tracks.csv',index=False)"
   ]
  },
  {
   "cell_type": "code",
   "execution_count": 5,
   "id": "3c426a19-dff2-436f-85e3-766108dc1b16",
   "metadata": {},
   "outputs": [],
   "source": [
    "#Just for explore\n",
    "#aa.Time\n",
    "#aa[aa.Name=='Chanthu']"
   ]
  },
  {
   "cell_type": "code",
   "execution_count": null,
   "id": "45fee397-10db-4aae-9a08-3269639c6157",
   "metadata": {},
   "outputs": [],
   "source": []
  }
 ],
 "metadata": {
  "kernelspec": {
   "display_name": "Python 3",
   "language": "python",
   "name": "python3"
  },
  "language_info": {
   "codemirror_mode": {
    "name": "ipython",
    "version": 3
   },
   "file_extension": ".py",
   "mimetype": "text/x-python",
   "name": "python",
   "nbconvert_exporter": "python",
   "pygments_lexer": "ipython3",
   "version": "3.8.5"
  }
 },
 "nbformat": 4,
 "nbformat_minor": 5
}
